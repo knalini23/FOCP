{
 "cells": [
  {
   "cell_type": "markdown",
   "id": "1b7776fb-209b-4746-98ec-0e5c9057d5bd",
   "metadata": {},
   "source": [
    "1. Functions are often used to validate input. Write a function that accepts a single \n",
    "integer as a parameter and returns True if the integer is in the range 0 to 10 \r\n",
    "(inclusive), or False otherwise. Write a short program to test the function."
   ]
  },
  {
   "cell_type": "code",
   "execution_count": 3,
   "id": "62d875fd-6cbb-45f0-8017-9ef2d8c40a35",
   "metadata": {},
   "outputs": [
    {
     "name": "stdout",
     "output_type": "stream",
     "text": [
      "Is 30 in range 0 to 100? True\n",
      "Is 799 in range 0 to 100? False\n",
      "Is -120 in range 0 to 100? False\n",
      "Is 100 in range 0 to 100? True\n"
     ]
    }
   ],
   "source": [
    "def num_range(num):\n",
    "    if 0<=num<=100:\n",
    "        return True\n",
    "    else:\n",
    "        return False\n",
    "        \n",
    "test_numbers = [30,799,-120,100]\n",
    "for value in test_numbers:\n",
    "    result = num_range(value)\n",
    "    print(f\"Is {value} in range 0 to 100? {result}\")"
   ]
  },
  {
   "cell_type": "markdown",
   "id": "3e88ba11-209f-4031-b3a1-b5c69e3f1fa7",
   "metadata": {},
   "source": [
    "2. Write a function that has a single string as its parameter, and returns the number of \n",
    "uppercase letters, and the number of lowercase letters in the string. Test th \r\n",
    "function with a short program."
   ]
  },
  {
   "cell_type": "code",
   "execution_count": 8,
   "id": "f2254bd1-fc0a-43ae-982e-164c24e2d1da",
   "metadata": {},
   "outputs": [
    {
     "name": "stdin",
     "output_type": "stream",
     "text": [
      "Enter the text you want to count the casing for:  PneuMoNiA\n"
     ]
    },
    {
     "name": "stdout",
     "output_type": "stream",
     "text": [
      "String: 'PneuMoNiA'\n",
      "Uppercase letters: 4, Lowercase letters: 5\n",
      "\n"
     ]
    }
   ],
   "source": [
    "def string_casing(s):\n",
    "    upperCase = 0\n",
    "    lowerCase = 0\n",
    "\n",
    "    for char in s:\n",
    "        if char.isupper():\n",
    "            upperCase += 1\n",
    "        elif char.islower():\n",
    "            lowerCase +=1\n",
    "    return upperCase, lowerCase\n",
    "\n",
    "string_test = input(\"Enter the text you want to count the casing for: \")\n",
    "\n",
    "Upcase, lowcase = string_casing(string_test)\n",
    "print(f\"String: '{string_test}'\")\n",
    "print(f\"Uppercase letters: {Upcase}, Lowercase letters: {lowcase}\\n\")"
   ]
  },
  {
   "cell_type": "markdown",
   "id": "6b801f38-a3ed-43b0-9a66-851c330fb67c",
   "metadata": {},
   "source": [
    "3. Modify your \"greetings\" program so that the first letter of the name entered is always in uppercase with the rest in lowercase. This should happen even if the user entered their name differently. So if the user entered arthur, ARTHUR, or even arTHur the name should be displayed as Arthur."
   ]
  },
  {
   "cell_type": "code",
   "execution_count": 10,
   "id": "85df7ebd-e00b-4bec-9a80-38453f8356c0",
   "metadata": {},
   "outputs": [
    {
     "name": "stdin",
     "output_type": "stream",
     "text": [
      "Your name:  naLINI\n"
     ]
    },
    {
     "name": "stdout",
     "output_type": "stream",
     "text": [
      "Greetings! Nalini\n"
     ]
    }
   ],
   "source": [
    "name = input(\"Your name: \")\n",
    "modify_name = name.capitalize()\n",
    "\n",
    "print(f\"Greetings! {modify_name}\")"
   ]
  },
  {
   "cell_type": "markdown",
   "id": "8d65e4e3-3160-4c14-a44e-8eb515596762",
   "metadata": {},
   "source": [
    "4. When processing data it is often useful to remove the last character from some input (it is often a newline). Write and test a function that takes a string parameter and returns it with the last character removed. (If the string contains one or fewer \n",
    "characters, return it unchanged.)"
   ]
  },
  {
   "cell_type": "code",
   "execution_count": 14,
   "id": "4c686908-fb8f-42b4-a567-2469e942f6e6",
   "metadata": {},
   "outputs": [
    {
     "name": "stdin",
     "output_type": "stream",
     "text": [
      "Enter a word:  heaven\n"
     ]
    },
    {
     "data": {
      "text/plain": [
       "'heave'"
      ]
     },
     "execution_count": 14,
     "metadata": {},
     "output_type": "execute_result"
    }
   ],
   "source": [
    "def string_manipulation(s):\n",
    "    if len(s) >1:\n",
    "        return s[:-1]\n",
    "    else:\n",
    "        return s \n",
    "\n",
    "remove_last_char = input(\"Enter a word: \")\n",
    "string_manipulation(remove_last_char)"
   ]
  },
  {
   "cell_type": "markdown",
   "id": "8a120a87-40f9-4602-8095-8c97580c76c6",
   "metadata": {},
   "source": [
    "5. Write and test a function that converts a temperature measured in degrees centigrade into the equivalent in Fahrenheit, and another that does the reverse conversion. Test both functions. (Google will find you the formulae)."
   ]
  },
  {
   "cell_type": "code",
   "execution_count": 20,
   "id": "44d0fa92-ccc8-44ac-8c65-529a341608f0",
   "metadata": {},
   "outputs": [
    {
     "name": "stdin",
     "output_type": "stream",
     "text": [
      "Enter temperature in celsius:  36.4\n"
     ]
    },
    {
     "name": "stdout",
     "output_type": "stream",
     "text": [
      "36.4C is equivalent to 97.52F\n"
     ]
    },
    {
     "name": "stdin",
     "output_type": "stream",
     "text": [
      "Enter temperature in fahrenheit:  94.2\n"
     ]
    },
    {
     "name": "stdout",
     "output_type": "stream",
     "text": [
      "94.2F is equivalent to 34.55555555555556C\n"
     ]
    }
   ],
   "source": [
    "def cel_to_fah(celsius):\n",
    "    fahrenheit = celsius*(9/5) +32\n",
    "    return fahrenheit\n",
    "\n",
    "def fah_to_cel(fahr):\n",
    "    cels = (fahr-32) * 5/9\n",
    "    return cels\n",
    "\n",
    "temp_in_celsius = float(input(\"Enter temperature in celsius: \"))\n",
    "print(f\"{temp_in_celsius}C is equivalent to {cel_to_fah(temp_in_celsius)}F\")\n",
    "\n",
    "temp_in_fahrenheit =float(input(\"Enter temperature in fahrenheit: \"))\n",
    "print(f\"{temp_in_fahrenheit}F is equivalent to {fah_to_cel(temp_in_fahrenheit)}C\")"
   ]
  },
  {
   "cell_type": "markdown",
   "id": "55a1cad6-2063-4d4f-85a3-f1fe98db7b59",
   "metadata": {},
   "source": [
    "6. Write a program that takes a centigrade temperature and displays the equivalent in\n",
    "fahrenheit. The input should be a number followed by a letter C. The output should\n",
    "be in the same format."
   ]
  },
  {
   "cell_type": "code",
   "execution_count": 21,
   "id": "cc22e2b0-4b67-4ad5-9e22-b0d4a1e67b06",
   "metadata": {},
   "outputs": [
    {
     "name": "stdin",
     "output_type": "stream",
     "text": [
      "Enter temperature in Celsius (e.g., 25C):  34C\n"
     ]
    },
    {
     "name": "stdout",
     "output_type": "stream",
     "text": [
      "93.20F\n"
     ]
    }
   ],
   "source": [
    "def celsius_to_fahrenheit(celsius: float) -> float:\n",
    "    return (celsius * 9 / 5) + 32\n",
    "\n",
    "def main():\n",
    "   \n",
    "    input_temp = input(\"Enter temperature in Celsius (e.g., 25C): \").strip()\n",
    "    \n",
    "    if input_temp[-1].upper() == 'C' and input_temp[:-1].replace('.', '', 1).isdigit():\n",
    "        celsius = float(input_temp[:-1])\n",
    "        fahrenheit = celsius_to_fahrenheit(celsius)\n",
    "        print(f\"{fahrenheit:.2f}F\")\n",
    "        \n",
    "    else:\n",
    "        print(\"Invalid input. Please enter the temperature in the format 'XXC'.\")\n",
    "\n",
    "if __name__ == \"__main__\":\n",
    "    main()\n"
   ]
  },
  {
   "cell_type": "markdown",
   "id": "aea7ae6d-c264-42e1-a75d-4dd9adbed094",
   "metadata": {},
   "source": [
    "7. Write a program that reads 6 temperatures (in the same format as before), and displays the maximum, minimum, and mean of the values.\n",
    "Hint: You should know there are built-in functions for max and min. If you hunt, you might also find one for the mean."
   ]
  },
  {
   "cell_type": "code",
   "execution_count": 22,
   "id": "db46ebbe-0704-44a4-b3c3-d363f05cdde0",
   "metadata": {},
   "outputs": [
    {
     "name": "stdin",
     "output_type": "stream",
     "text": [
      "Enter temperature 1 in Celsius (e.g., 25C):  25.5C\n",
      "Enter temperature 2 in Celsius (e.g., 25C):  34.5c\n",
      "Enter temperature 3 in Celsius (e.g., 25C):  16C\n",
      "Enter temperature 4 in Celsius (e.g., 25C):  2C\n",
      "Enter temperature 5 in Celsius (e.g., 25C):  45C\n",
      "Enter temperature 6 in Celsius (e.g., 25C):  37C\n"
     ]
    },
    {
     "name": "stdout",
     "output_type": "stream",
     "text": [
      "Maximum Temperature: 113.00F\n",
      "Minimum Temperature: 35.60F\n",
      "Mean Temperature: 80.00F\n"
     ]
    }
   ],
   "source": [
    "def celsius_to_fahrenheit(celsius: float) -> float:\n",
    "    return (celsius * 9 / 5) + 32\n",
    "\n",
    "def main():\n",
    "    fahrenheit_temps = []\n",
    "    \n",
    "    for i in range(6):\n",
    "        input_temp = input(f\"Enter temperature {i+1} in Celsius (e.g., 25C): \").strip()\n",
    "        \n",
    "        if input_temp[-1].upper() == 'C' and input_temp[:-1].replace('.', '', 1).isdigit():\n",
    "            celsius = float(input_temp[:-1])\n",
    "            \n",
    "            fahrenheit = celsius_to_fahrenheit(celsius)\n",
    "            fahrenheit_temps.append(fahrenheit)\n",
    "        else:\n",
    "            print(\"Invalid input. Please enter the temperature in the format 'XXC'.\")\n",
    "            return  \n",
    "    \n",
    "    max_temp = max(fahrenheit_temps)\n",
    "    min_temp = min(fahrenheit_temps)\n",
    "    mean_temp = sum(fahrenheit_temps) / len(fahrenheit_temps)\n",
    "\n",
    "    print(f\"Maximum Temperature: {max_temp:.2f}F\")\n",
    "    print(f\"Minimum Temperature: {min_temp:.2f}F\")\n",
    "    print(f\"Mean Temperature: {mean_temp:.2f}F\")\n",
    "\n",
    "if __name__ == \"__main__\":\n",
    "    main()"
   ]
  },
  {
   "cell_type": "markdown",
   "id": "5d265dd0-e62d-4d46-ab8c-75a9723e2153",
   "metadata": {},
   "source": [
    "8. Modify the previous program so that it can process any number of values. The input \n",
    "terminates when the user just pressed \"Enter\" at the prompt rather than entering  \r\n",
    "value."
   ]
  },
  {
   "cell_type": "code",
   "execution_count": 23,
   "id": "cc219c6b-c5fd-438b-b91e-f19a4af14c6b",
   "metadata": {},
   "outputs": [
    {
     "name": "stdin",
     "output_type": "stream",
     "text": [
      "Enter temperature in Celsius (e.g., 25C) or press Enter to stop:  32C\n",
      "Enter temperature in Celsius (e.g., 25C) or press Enter to stop:  \n"
     ]
    },
    {
     "name": "stdout",
     "output_type": "stream",
     "text": [
      "Maximum Temperature: 89.60F\n",
      "Minimum Temperature: 89.60F\n",
      "Mean Temperature: 89.60F\n"
     ]
    }
   ],
   "source": [
    "def celsius_to_fahrenheit(celsius: float) -> float:\n",
    "    return (celsius * 9 / 5) + 32\n",
    "\n",
    "def main():\n",
    "    fahrenheit_temps = []  \n",
    "    \n",
    "    while True:\n",
    "        input_temp = input(\"Enter temperature in Celsius (e.g., 25C) or press Enter to stop: \").strip()\n",
    "        if input_temp == \"\":\n",
    "            break\n",
    "        \n",
    "        if input_temp[-1].upper() == 'C' and input_temp[:-1].replace('.', '', 1).isdigit():\n",
    "            # Extract the numeric part and convert to float\n",
    "            celsius = float(input_temp[:-1])\n",
    "            \n",
    "            fahrenheit = celsius_to_fahrenheit(celsius)\n",
    "            fahrenheit_temps.append(fahrenheit)\n",
    "        else:\n",
    "            print(\"Invalid input. Please enter the temperature in the format 'XXC'.\")\n",
    " \n",
    "    if fahrenheit_temps:\n",
    "        max_temp = max(fahrenheit_temps)\n",
    "        min_temp = min(fahrenheit_temps)\n",
    "        mean_temp = sum(fahrenheit_temps) / len(fahrenheit_temps)\n",
    "\n",
    "        print(f\"Maximum Temperature: {max_temp:.2f}F\")\n",
    "        print(f\"Minimum Temperature: {min_temp:.2f}F\")\n",
    "        print(f\"Mean Temperature: {mean_temp:.2f}F\")\n",
    "    else:\n",
    "        print(\"No valid temperatures were entered.\")\n",
    "\n",
    "if __name__ == \"__main__\":\n",
    "    main()"
   ]
  }
 ],
 "metadata": {
  "kernelspec": {
   "display_name": "Python 3 (ipykernel)",
   "language": "python",
   "name": "python3"
  },
  "language_info": {
   "codemirror_mode": {
    "name": "ipython",
    "version": 3
   },
   "file_extension": ".py",
   "mimetype": "text/x-python",
   "name": "python",
   "nbconvert_exporter": "python",
   "pygments_lexer": "ipython3",
   "version": "3.12.1"
  }
 },
 "nbformat": 4,
 "nbformat_minor": 5
}
