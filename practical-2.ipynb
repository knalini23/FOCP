{
 "cells": [
  {
   "cell_type": "code",
   "execution_count": 3,
   "id": "71e9c1f0-874e-4336-bb8d-d993d6dc7319",
   "metadata": {},
   "outputs": [
    {
     "name": "stdout",
     "output_type": "stream",
     "text": [
      "The total is 100\n"
     ]
    }
   ],
   "source": [
    "total = 100\n",
    "print(\"The total is\", total)"
   ]
  },
  {
   "cell_type": "code",
   "execution_count": 4,
   "id": "8494fbd3-bae8-490d-b8ef-e0fc6748f460",
   "metadata": {},
   "outputs": [
    {
     "name": "stdout",
     "output_type": "stream",
     "text": [
      "The total is now 199\n"
     ]
    }
   ],
   "source": [
    "total = total + 99\n",
    "print(\"The total is now\", total)"
   ]
  },
  {
   "cell_type": "code",
   "execution_count": 5,
   "id": "66d4caa6-92ef-4a9b-8a9a-630f759d8f56",
   "metadata": {},
   "outputs": [
    {
     "name": "stdout",
     "output_type": "stream",
     "text": [
      "The total is now 298\n"
     ]
    }
   ],
   "source": [
    "total += 99\n",
    "print(\"The total is now\", total)"
   ]
  },
  {
   "cell_type": "code",
   "execution_count": 7,
   "id": "402cc88f-0db4-4549-9a1a-8a837299e80a",
   "metadata": {},
   "outputs": [
    {
     "name": "stdout",
     "output_type": "stream",
     "text": [
      "The total is 29799\n",
      "The total is 119196\n",
      "The total is 59598.0\n"
     ]
    }
   ],
   "source": [
    "total = total - 1\n",
    "print(\"The total is\", total)\n",
    "\n",
    "total = total * 4\n",
    "print(\"The total is\", total)\n",
    "total = total / 2\n",
    "print(\"The total is\", total)"
   ]
  },
  {
   "cell_type": "code",
   "execution_count": 9,
   "id": "89b35900-8be6-4e70-a7c0-6c067acf9046",
   "metadata": {},
   "outputs": [
    {
     "name": "stdout",
     "output_type": "stream",
     "text": [
      "51.6\n"
     ]
    }
   ],
   "source": [
    "total = 98.2\n",
    "count = 5\n",
    "\n",
    "average = (total + count)/2\n",
    "print(average)"
   ]
  },
  {
   "cell_type": "code",
   "execution_count": 16,
   "id": "aed1208f-dc52-4618-8e34-dc66fe58879a",
   "metadata": {},
   "outputs": [
    {
     "data": {
      "text/plain": [
       "str"
      ]
     },
     "execution_count": 16,
     "metadata": {},
     "output_type": "execute_result"
    }
   ],
   "source": [
    "type(\"Hello\")"
   ]
  },
  {
   "cell_type": "code",
   "execution_count": 17,
   "id": "496c5ace-dcce-44a7-9175-74c4fd99c17f",
   "metadata": {},
   "outputs": [
    {
     "data": {
      "text/plain": [
       "float"
      ]
     },
     "execution_count": 17,
     "metadata": {},
     "output_type": "execute_result"
    }
   ],
   "source": [
    "type(100 / 5)"
   ]
  },
  {
   "cell_type": "code",
   "execution_count": 18,
   "id": "f47fa217-530c-4c0a-948c-4e58dfd07655",
   "metadata": {},
   "outputs": [
    {
     "data": {
      "text/plain": [
       "bool"
      ]
     },
     "execution_count": 18,
     "metadata": {},
     "output_type": "execute_result"
    }
   ],
   "source": [
    "type(True)"
   ]
  },
  {
   "cell_type": "code",
   "execution_count": 19,
   "id": "ef60bb3f-e47d-4e73-abd7-fea035188758",
   "metadata": {},
   "outputs": [
    {
     "data": {
      "text/plain": [
       "float"
      ]
     },
     "execution_count": 19,
     "metadata": {},
     "output_type": "execute_result"
    }
   ],
   "source": [
    "type(100.111)"
   ]
  },
  {
   "cell_type": "code",
   "execution_count": 20,
   "id": "a2716d17-5055-4279-aeda-e5d2d0d272a7",
   "metadata": {},
   "outputs": [
    {
     "data": {
      "text/plain": [
       "int"
      ]
     },
     "execution_count": 20,
     "metadata": {},
     "output_type": "execute_result"
    }
   ],
   "source": [
    "type(100 // 5)"
   ]
  },
  {
   "cell_type": "code",
   "execution_count": 21,
   "id": "0175a0ad-48a5-4b10-85c7-12062c5acedf",
   "metadata": {},
   "outputs": [
    {
     "data": {
      "text/plain": [
       "'ABCABCABCABCABCABCABCABCABCABC'"
      ]
     },
     "execution_count": 21,
     "metadata": {},
     "output_type": "execute_result"
    }
   ],
   "source": [
    "\"ABC\" * 10"
   ]
  },
  {
   "cell_type": "code",
   "execution_count": 23,
   "id": "14e69a5a-82bd-45ac-8f2e-1e66d3950e09",
   "metadata": {},
   "outputs": [
    {
     "name": "stdout",
     "output_type": "stream",
     "text": [
      "Name: Anna Frank\n",
      "Address: 123 Main Street, Washington DC\n",
      "Contact: anaa@gmail.com.com, 5551234567\n",
      "The length of the name 'Anna Frank' is: 10\n"
     ]
    }
   ],
   "source": [
    "print(\"Name: Anna Frank\")\n",
    "print(\"Address: 123 Main Street, Washington DC\")\n",
    "print(\"Contact: anaa@gmail.com.com, 5551234567\")\n",
    "\n",
    "name = \"Anna Frank\"\n",
    "print(\"The length of the name '{}' is: {}\".format(name, len(name)))"
   ]
  },
  {
   "cell_type": "code",
   "execution_count": 24,
   "id": "84880d9a-9fec-4249-a2ef-ee08877c9a74",
   "metadata": {},
   "outputs": [
    {
     "name": "stdin",
     "output_type": "stream",
     "text": [
      "Enter your age  20\n"
     ]
    },
    {
     "name": "stdout",
     "output_type": "stream",
     "text": [
      "In one year you will be 21\n"
     ]
    }
   ],
   "source": [
    "age = input(\"Enter your age \")\n",
    "age = int(age)\n",
    "print(\"In one year you will be\", age + 1)"
   ]
  },
  {
   "cell_type": "code",
   "execution_count": 28,
   "id": "8f8e059e-eb96-4ea7-b426-c0f2334f4da8",
   "metadata": {},
   "outputs": [
    {
     "name": "stdout",
     "output_type": "stream",
     "text": [
      "I would have \"thought\" you knew better!\n"
     ]
    }
   ],
   "source": [
    "comment = 'I would have \"thought\" you knew better!'\n",
    "print(comment)\n",
    "#if we add double quotes in the start and end as well a syntax error will occur"
   ]
  },
  {
   "cell_type": "code",
   "execution_count": 29,
   "id": "4b70f03f-ffda-4ab3-b056-fbadf1a03511",
   "metadata": {},
   "outputs": [
    {
     "name": "stdout",
     "output_type": "stream",
     "text": [
      "This text includes characters such as '' '\"' and \"'\", This is a new line that starts with a tab\n",
      "This new line starts with two tabs\n"
     ]
    }
   ],
   "source": [
    "print('''This text includes characters such as '\\' '\"' and \"'\", This is a new line that starts with a tab\n",
    "This new line starts with two tabs''')"
   ]
  },
  {
   "cell_type": "code",
   "execution_count": 30,
   "id": "470461be-dbb8-4388-9784-564bf9ba7820",
   "metadata": {},
   "outputs": [
    {
     "name": "stdout",
     "output_type": "stream",
     "text": [
      "\\\\\\\\\\\\\\\\\\\\\\\\\\\\\\\\\\\\\\\\\\\\\\\\\\\\\\\n",
      "Hello there!\n",
      "\\\\\\\\\\\\\\\\\\\\\\\\\\\\\\\\\\\\\\\\\\\\\\\\\\\\\\\n"
     ]
    }
   ],
   "source": [
    "print('''\\\\\\\\\\\\\\\\\\\\\\\\\\\\\\\\\\\\\\\\\\\\\\\\\\\\\\\\\\\\\\\\\\\\\\\\\\\\\\\\\\\\\\\\\\\\\\\\\\\\\\\\\\\\\n",
    "Hello there!\n",
    "\\\\\\\\\\\\\\\\\\\\\\\\\\\\\\\\\\\\\\\\\\\\\\\\\\\\\\\\\\\\\\\\\\\\\\\\\\\\\\\\\\\\\\\\\\\\\\\\\\\\\\\\\\\\''')"
   ]
  },
  {
   "cell_type": "code",
   "execution_count": 31,
   "id": "d09c9edb-6757-4656-8eb7-b9d41dee712b",
   "metadata": {},
   "outputs": [
    {
     "name": "stdout",
     "output_type": "stream",
     "text": [
      "This text spans three lines,\n",
      "and includes both single (&#39;),\n",
      "and double quotes (\").\n"
     ]
    }
   ],
   "source": [
    "print('''This text spans three lines,\n",
    "and includes both single (&#39;),\n",
    "and double quotes (\").''')"
   ]
  },
  {
   "cell_type": "code",
   "execution_count": 35,
   "id": "cc75b4d0-25dc-496f-a205-156087785170",
   "metadata": {},
   "outputs": [
    {
     "name": "stdout",
     "output_type": "stream",
     "text": [
      "l\n"
     ]
    }
   ],
   "source": [
    "surname = \"Palin\"\n",
    "initial = surname[2]\n",
    "print(initial)"
   ]
  },
  {
   "cell_type": "code",
   "execution_count": 36,
   "id": "615f4620-8124-4e9e-a9f8-11cd03c08828",
   "metadata": {},
   "outputs": [
    {
     "ename": "IndexError",
     "evalue": "string index out of range",
     "output_type": "error",
     "traceback": [
      "\u001b[1;31m---------------------------------------------------------------------------\u001b[0m",
      "\u001b[1;31mIndexError\u001b[0m                                Traceback (most recent call last)",
      "Cell \u001b[1;32mIn[36], line 2\u001b[0m\n\u001b[0;32m      1\u001b[0m surname \u001b[38;5;241m=\u001b[39m \u001b[38;5;124m\"\u001b[39m\u001b[38;5;124mPalin\u001b[39m\u001b[38;5;124m\"\u001b[39m\n\u001b[1;32m----> 2\u001b[0m initial \u001b[38;5;241m=\u001b[39m \u001b[43msurname\u001b[49m\u001b[43m[\u001b[49m\u001b[38;5;241;43m9\u001b[39;49m\u001b[43m]\u001b[49m\n\u001b[0;32m      3\u001b[0m \u001b[38;5;28mprint\u001b[39m(initial)\n",
      "\u001b[1;31mIndexError\u001b[0m: string index out of range"
     ]
    }
   ],
   "source": [
    "surname = \"Palin\"\n",
    "initial = surname[9]\n",
    "print(initial)\n",
    "#if an index that does not exist in a given string out of range error occurs"
   ]
  },
  {
   "cell_type": "code",
   "execution_count": 37,
   "id": "9c050ff2-c234-4862-9956-59701f547d64",
   "metadata": {},
   "outputs": [
    {
     "name": "stdout",
     "output_type": "stream",
     "text": [
      "i\n"
     ]
    }
   ],
   "source": [
    "surname = \"Palin\"\n",
    "last = surname[-2]\n",
    "print(last)"
   ]
  },
  {
   "cell_type": "code",
   "execution_count": 40,
   "id": "e228d06d-f0b2-4ed9-8800-0bfd4154ae4f",
   "metadata": {},
   "outputs": [
    {
     "name": "stdout",
     "output_type": "stream",
     "text": [
      "alin\n"
     ]
    }
   ],
   "source": [
    "surname = \"Palin\"\n",
    "middle = surname[1:]\n",
    "print(middle)"
   ]
  },
  {
   "cell_type": "code",
   "execution_count": 41,
   "id": "ef31abae-d574-41b5-9cef-39fb81b82d25",
   "metadata": {},
   "outputs": [
    {
     "name": "stdout",
     "output_type": "stream",
     "text": [
      "Pali\n"
     ]
    }
   ],
   "source": [
    "surname = \"Palin\"\n",
    "middle = surname[:4]\n",
    "print(middle)"
   ]
  },
  {
   "cell_type": "code",
   "execution_count": 43,
   "id": "a6e8af0e-ba48-440f-89d2-38ef7922c57f",
   "metadata": {},
   "outputs": [
    {
     "name": "stdout",
     "output_type": "stream",
     "text": [
      "[2, 3, 5, 7]\n"
     ]
    }
   ],
   "source": [
    "primes = [2, 3, 5, 7, 13, 17, 19, 23, 29, 31, 37, 41, 43, 47]\n",
    "sliced_primes = primes[:4]\n",
    "print(sliced_primes)"
   ]
  },
  {
   "cell_type": "code",
   "execution_count": 44,
   "id": "31b2d3bb-5121-45e3-bc16-0e93e6a8a08a",
   "metadata": {},
   "outputs": [
    {
     "name": "stdout",
     "output_type": "stream",
     "text": [
      "Updated names list: ['Alice', 'Bob', 'Charlie', 'David', 'Frank', 'Eve']\n"
     ]
    }
   ],
   "source": [
    "names = [\"Alice\", \"Bob\", \"Charlie\", \"Eve\"]\n",
    "new_names = [\"David\", \"Frank\"]\n",
    "\n",
    "names = names[:-1] + new_names + names[-1:]\n",
    "print(\"Updated names list:\", names)"
   ]
  },
  {
   "cell_type": "code",
   "execution_count": 46,
   "id": "118e7eb1-4354-405e-83a0-5e91541e0234",
   "metadata": {},
   "outputs": [
    {
     "name": "stdout",
     "output_type": "stream",
     "text": [
      "[34, 10, 45, 56, 67, 78]\n"
     ]
    }
   ],
   "source": [
    "nums = [12, 23, 34, 45]\n",
    "nums.append(56)\n",
    "nums.extend([67, 78])\n",
    "nums = nums[2:]  # Keep only elements from index 2 onwards\n",
    "nums.insert(1, 10)  # Insert 10 at index 1\n",
    "\n",
    "print(nums)"
   ]
  }
 ],
 "metadata": {
  "kernelspec": {
   "display_name": "Python 3 (ipykernel)",
   "language": "python",
   "name": "python3"
  },
  "language_info": {
   "codemirror_mode": {
    "name": "ipython",
    "version": 3
   },
   "file_extension": ".py",
   "mimetype": "text/x-python",
   "name": "python",
   "nbconvert_exporter": "python",
   "pygments_lexer": "ipython3",
   "version": "3.12.1"
  }
 },
 "nbformat": 4,
 "nbformat_minor": 5
}
