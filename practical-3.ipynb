{
 "cells": [
  {
   "cell_type": "code",
   "execution_count": 1,
   "id": "fdd4bdcd-6ce6-446e-92c9-e1c934ddf592",
   "metadata": {},
   "outputs": [
    {
     "data": {
      "text/plain": [
       "True"
      ]
     },
     "execution_count": 1,
     "metadata": {},
     "output_type": "execute_result"
    }
   ],
   "source": [
    "10 < 100"
   ]
  },
  {
   "cell_type": "code",
   "execution_count": 2,
   "id": "b312c4fb-ddc3-433d-b924-1cd81f4fda13",
   "metadata": {},
   "outputs": [
    {
     "data": {
      "text/plain": [
       "False"
      ]
     },
     "execution_count": 2,
     "metadata": {},
     "output_type": "execute_result"
    }
   ],
   "source": [
    "100 != 100"
   ]
  },
  {
   "cell_type": "code",
   "execution_count": 3,
   "id": "d01db032-d734-4f23-8c2f-f898a50ac25b",
   "metadata": {},
   "outputs": [
    {
     "data": {
      "text/plain": [
       "True"
      ]
     },
     "execution_count": 3,
     "metadata": {},
     "output_type": "execute_result"
    }
   ],
   "source": [
    "50 >= 50"
   ]
  },
  {
   "cell_type": "code",
   "execution_count": 4,
   "id": "fcdd48fc-eb52-4816-9fb7-e3a1334fe36b",
   "metadata": {},
   "outputs": [
    {
     "data": {
      "text/plain": [
       "False"
      ]
     },
     "execution_count": 4,
     "metadata": {},
     "output_type": "execute_result"
    }
   ],
   "source": [
    "age = 19\n",
    "age<18"
   ]
  },
  {
   "cell_type": "code",
   "execution_count": 5,
   "id": "9068e312-e7e0-4899-be7a-2cab67a51ba4",
   "metadata": {},
   "outputs": [
    {
     "data": {
      "text/plain": [
       "True"
      ]
     },
     "execution_count": 5,
     "metadata": {},
     "output_type": "execute_result"
    }
   ],
   "source": [
    "age<=21"
   ]
  },
  {
   "cell_type": "code",
   "execution_count": 6,
   "id": "d513aaca-5c90-4641-8f71-3fd7398ef46a",
   "metadata": {},
   "outputs": [
    {
     "data": {
      "text/plain": [
       "False"
      ]
     },
     "execution_count": 6,
     "metadata": {},
     "output_type": "execute_result"
    }
   ],
   "source": [
    "age>31"
   ]
  },
  {
   "cell_type": "code",
   "execution_count": 7,
   "id": "0bfedbed-4b20-4a31-bcfe-12893eda484f",
   "metadata": {},
   "outputs": [
    {
     "data": {
      "text/plain": [
       "True"
      ]
     },
     "execution_count": 7,
     "metadata": {},
     "output_type": "execute_result"
    }
   ],
   "source": [
    "\"a\" < \"b\""
   ]
  },
  {
   "cell_type": "code",
   "execution_count": 8,
   "id": "22d23ded-d291-44a4-a93c-e181bdae11d4",
   "metadata": {},
   "outputs": [
    {
     "data": {
      "text/plain": [
       "False"
      ]
     },
     "execution_count": 8,
     "metadata": {},
     "output_type": "execute_result"
    }
   ],
   "source": [
    "\"b\" < \"a\""
   ]
  },
  {
   "cell_type": "code",
   "execution_count": 9,
   "id": "53839af9-8299-4f00-b133-17561ec716a0",
   "metadata": {},
   "outputs": [
    {
     "data": {
      "text/plain": [
       "True"
      ]
     },
     "execution_count": 9,
     "metadata": {},
     "output_type": "execute_result"
    }
   ],
   "source": [
    "\"John\" < \"Terry\""
   ]
  },
  {
   "cell_type": "code",
   "execution_count": 13,
   "id": "aace63d0-6833-4fa6-9d8e-51942110e063",
   "metadata": {},
   "outputs": [
    {
     "data": {
      "text/plain": [
       "False"
      ]
     },
     "execution_count": 13,
     "metadata": {},
     "output_type": "execute_result"
    }
   ],
   "source": [
    "\"john\" < \"Terry\"\n",
    "#Python compares the lowercase \"john\" with the uppercase \"Terry\". In Unicode, lowercase letters have higher values than uppercase letters. \n",
    "#Hence, the result is different from the above result."
   ]
  },
  {
   "cell_type": "code",
   "execution_count": 14,
   "id": "2a6e91aa-ddcf-4a91-aa30-6f2c06fcf717",
   "metadata": {},
   "outputs": [
    {
     "data": {
      "text/plain": [
       "True"
      ]
     },
     "execution_count": 14,
     "metadata": {},
     "output_type": "execute_result"
    }
   ],
   "source": [
    "5 < 10.2"
   ]
  },
  {
   "cell_type": "code",
   "execution_count": 15,
   "id": "1017d75d-e6d6-4930-a825-3d5dbd282565",
   "metadata": {},
   "outputs": [
    {
     "ename": "TypeError",
     "evalue": "'<' not supported between instances of 'int' and 'str'",
     "output_type": "error",
     "traceback": [
      "\u001b[1;31m---------------------------------------------------------------------------\u001b[0m",
      "\u001b[1;31mTypeError\u001b[0m                                 Traceback (most recent call last)",
      "Cell \u001b[1;32mIn[15], line 1\u001b[0m\n\u001b[1;32m----> 1\u001b[0m \u001b[38;5;241;43m5\u001b[39;49m\u001b[43m \u001b[49m\u001b[38;5;241;43m<\u001b[39;49m\u001b[43m \u001b[49m\u001b[38;5;124;43m\"\u001b[39;49m\u001b[38;5;124;43mMonty\u001b[39;49m\u001b[38;5;124;43m\"\u001b[39;49m\n",
      "\u001b[1;31mTypeError\u001b[0m: '<' not supported between instances of 'int' and 'str'"
     ]
    }
   ],
   "source": [
    "5 < \"Monty\""
   ]
  },
  {
   "cell_type": "code",
   "execution_count": 16,
   "id": "f6184cb2-efb3-4242-933c-2ca3002a80c4",
   "metadata": {},
   "outputs": [
    {
     "ename": "TypeError",
     "evalue": "'<' not supported between instances of 'int' and 'str'",
     "output_type": "error",
     "traceback": [
      "\u001b[1;31m---------------------------------------------------------------------------\u001b[0m",
      "\u001b[1;31mTypeError\u001b[0m                                 Traceback (most recent call last)",
      "Cell \u001b[1;32mIn[16], line 1\u001b[0m\n\u001b[1;32m----> 1\u001b[0m \u001b[38;5;241;43m5\u001b[39;49m\u001b[43m \u001b[49m\u001b[38;5;241;43m<\u001b[39;49m\u001b[43m \u001b[49m\u001b[38;5;124;43m\"\u001b[39;49m\u001b[38;5;124;43m5\u001b[39;49m\u001b[38;5;124;43m\"\u001b[39;49m\n",
      "\u001b[1;31mTypeError\u001b[0m: '<' not supported between instances of 'int' and 'str'"
     ]
    }
   ],
   "source": [
    "5 < \"5\""
   ]
  },
  {
   "cell_type": "code",
   "execution_count": 18,
   "id": "9f8e44a4-0383-4dfe-b37b-a6a2bf75a414",
   "metadata": {},
   "outputs": [
    {
     "data": {
      "text/plain": [
       "False"
      ]
     },
     "execution_count": 18,
     "metadata": {},
     "output_type": "execute_result"
    }
   ],
   "source": [
    "age = 30\n",
    "age >=18 and age <=65\n",
    "age <18 or age >65\n",
    "not age > 18"
   ]
  },
  {
   "cell_type": "code",
   "execution_count": 20,
   "id": "876ca8b3-9ccd-45e8-b57e-1b5e399f5475",
   "metadata": {},
   "outputs": [
    {
     "data": {
      "text/plain": [
       "False"
      ]
     },
     "execution_count": 20,
     "metadata": {},
     "output_type": "execute_result"
    }
   ],
   "source": [
    "age = 30\n",
    "(age >=18 and age <=65) and (not age==30)"
   ]
  },
  {
   "cell_type": "code",
   "execution_count": 22,
   "id": "45117e4c-1642-4300-bc5f-e171676b409f",
   "metadata": {},
   "outputs": [
    {
     "data": {
      "text/plain": [
       "True"
      ]
     },
     "execution_count": 22,
     "metadata": {},
     "output_type": "execute_result"
    }
   ],
   "source": [
    "weight = 120\n",
    "height = 141\n",
    "100 < weight < 200\n",
    "131 < height < 160"
   ]
  },
  {
   "cell_type": "code",
   "execution_count": 23,
   "id": "abe97f6f-f467-464d-a0dc-c82dac0010bb",
   "metadata": {},
   "outputs": [
    {
     "data": {
      "text/plain": [
       "True"
      ]
     },
     "execution_count": 23,
     "metadata": {},
     "output_type": "execute_result"
    }
   ],
   "source": [
    "names = [\"Terry\", \"John\", \"Michael\", \"Eric\", \"Terry\", \"Graham\"]\n",
    "\"Graham\" in names"
   ]
  },
  {
   "cell_type": "code",
   "execution_count": 25,
   "id": "222e929e-6c5b-4304-8656-5fd73450fb9f",
   "metadata": {},
   "outputs": [
    {
     "data": {
      "text/plain": [
       "True"
      ]
     },
     "execution_count": 25,
     "metadata": {},
     "output_type": "execute_result"
    }
   ],
   "source": [
    "\"Mark\" not in names"
   ]
  },
  {
   "cell_type": "code",
   "execution_count": 27,
   "id": "def796ee-53ca-41fc-b52f-a6716dd38f8d",
   "metadata": {},
   "outputs": [
    {
     "data": {
      "text/plain": [
       "False"
      ]
     },
     "execution_count": 27,
     "metadata": {},
     "output_type": "execute_result"
    }
   ],
   "source": [
    "message = \"Hello there, my name is John\"\n",
    "\"nam\" not in message"
   ]
  },
  {
   "cell_type": "code",
   "execution_count": 34,
   "id": "d7c52399-8cbc-4f1a-9763-8cc5a547083b",
   "metadata": {},
   "outputs": [
    {
     "name": "stdin",
     "output_type": "stream",
     "text": [
      "ENter your age:  21\n"
     ]
    },
    {
     "name": "stdout",
     "output_type": "stream",
     "text": [
      "you are still young!\n"
     ]
    }
   ],
   "source": [
    "age = int(input(\"Enter your age: \"))\n",
    "if 18 <= age <=30:\n",
    "    print(\"you are still young!\")\n",
    "else:\n",
    "    print(\"you are mature enough\")"
   ]
  },
  {
   "cell_type": "code",
   "execution_count": 38,
   "id": "316a86d0-51fd-4057-9ec6-b60657f32941",
   "metadata": {},
   "outputs": [
    {
     "name": "stdin",
     "output_type": "stream",
     "text": [
      "Enter your age:  40\n"
     ]
    },
    {
     "name": "stdout",
     "output_type": "stream",
     "text": [
      "You are at a mature age!\n"
     ]
    }
   ],
   "source": [
    "age = int(input(\"Enter your age: \"))\n",
    "if 18 <= age <=30:\n",
    "    print(\"you are still young!\")\n",
    "elif 31<=age<=40:\n",
    "    print(\"You are at a mature age!\")"
   ]
  },
  {
   "cell_type": "code",
   "execution_count": 40,
   "id": "0f4d098d-fcce-46e6-b8cb-21d5919d1b7d",
   "metadata": {},
   "outputs": [
    {
     "name": "stdin",
     "output_type": "stream",
     "text": [
      "Enter your name:  Steve\n"
     ]
    },
    {
     "name": "stdout",
     "output_type": "stream",
     "text": [
      "Your name is Steve\n"
     ]
    }
   ],
   "source": [
    "name = input(\"Enter your name: \")\n",
    "if bool(name):\n",
    "    print(\"Your name is\" , name)\n",
    "else:\n",
    "    print(\"Name not entered\")"
   ]
  },
  {
   "cell_type": "code",
   "execution_count": 42,
   "id": "3d5dddb1-2387-4b92-8efa-3ea3284e395f",
   "metadata": {},
   "outputs": [
    {
     "name": "stdout",
     "output_type": "stream",
     "text": [
      "Total is non-zero\n"
     ]
    }
   ],
   "source": [
    "total = 23\n",
    "if total != 0:\n",
    "    print (\"Total is non-zero\")\n",
    "else:\n",
    "    print(\"Total is zero\") "
   ]
  },
  {
   "cell_type": "code",
   "execution_count": 45,
   "id": "3a2e866a-5c5e-495b-84d9-113e5ff37fa7",
   "metadata": {},
   "outputs": [
    {
     "name": "stdin",
     "output_type": "stream",
     "text": [
      "Enter your age:  16\n"
     ]
    },
    {
     "name": "stdout",
     "output_type": "stream",
     "text": [
      "you are not an adult, yet!\n"
     ]
    }
   ],
   "source": [
    "age = int(input(\"Enter your age: \"))\n",
    "print(\"you are an adult\") if age>=18 else print(\"you are not an adult, yet!\")"
   ]
  },
  {
   "cell_type": "code",
   "execution_count": 46,
   "id": "61896233-41f4-40d8-8217-a7818eb7d7f7",
   "metadata": {},
   "outputs": [
    {
     "name": "stdout",
     "output_type": "stream",
     "text": [
      "Mark\n",
      "Julie\n",
      "Michael\n",
      "Richard\n"
     ]
    }
   ],
   "source": [
    "names = [\"Mark\", \"Julie\", \"Michael\", \"Richard\"]\n",
    "for name in names:\n",
    "    print(name)"
   ]
  },
  {
   "cell_type": "code",
   "execution_count": 48,
   "id": "46ee3967-293c-49ca-a573-ec323557c631",
   "metadata": {},
   "outputs": [
    {
     "name": "stdout",
     "output_type": "stream",
     "text": [
      "2 to the power of 2 = 4\n",
      "4 to the power of 4 = 256\n",
      "6 to the power of 6 = 46656\n",
      "8 to the power of 8 = 16777216\n",
      "10 to the power of 10 = 10000000000\n"
     ]
    }
   ],
   "source": [
    "for num in range(2,11,2):\n",
    "    result= num**num\n",
    "    print(f\"{num} to the power of {num} = {result}\")"
   ]
  },
  {
   "cell_type": "code",
   "execution_count": 1,
   "id": "4c2e5ec3-ad28-4640-897c-baa18cc3b6f8",
   "metadata": {},
   "outputs": [
    {
     "name": "stdout",
     "output_type": "stream",
     "text": [
      "Running total: 10\n",
      "Running total: 30\n",
      "Running total: 60\n",
      "Running total: 150\n",
      "Running total: 350\n",
      "Running total: 380\n",
      "Running total: 402\n",
      "Running total: 413\n"
     ]
    }
   ],
   "source": [
    "numbers = [10, 20, 30, 90, 200, 30, 22, 11]\n",
    "running_total = 0\n",
    "\n",
    "for number in numbers:\n",
    "    running_total += number  # Add the current number to the running total\n",
    "    print(f\"Running total: {running_total}\")"
   ]
  },
  {
   "cell_type": "code",
   "execution_count": 16,
   "id": "b32d3acb-f63a-4b3e-9336-8d7d61f6f683",
   "metadata": {},
   "outputs": [
    {
     "name": "stdout",
     "output_type": "stream",
     "text": [
      "Hello | World | Python\n"
     ]
    }
   ],
   "source": [
    "print(\"Hello\", \"World\", \"Python\", sep=\" | \")"
   ]
  },
  {
   "cell_type": "code",
   "execution_count": 17,
   "id": "0da27c35-b0ce-4067-816f-a6ee8446cb1e",
   "metadata": {},
   "outputs": [
    {
     "name": "stdout",
     "output_type": "stream",
     "text": [
      "Python,is,fun\n"
     ]
    }
   ],
   "source": [
    "print(\"Python\", \"is\", \"fun\", sep=\",\")"
   ]
  }
 ],
 "metadata": {
  "kernelspec": {
   "display_name": "Python 3 (ipykernel)",
   "language": "python",
   "name": "python3"
  },
  "language_info": {
   "codemirror_mode": {
    "name": "ipython",
    "version": 3
   },
   "file_extension": ".py",
   "mimetype": "text/x-python",
   "name": "python",
   "nbconvert_exporter": "python",
   "pygments_lexer": "ipython3",
   "version": "3.12.1"
  }
 },
 "nbformat": 4,
 "nbformat_minor": 5
}
