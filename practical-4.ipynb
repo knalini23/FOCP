{
 "cells": [
  {
   "cell_type": "code",
   "execution_count": 1,
   "id": "ef5b2b86-1cc9-49f2-ae62-b049ab9473e6",
   "metadata": {},
   "outputs": [
    {
     "name": "stdout",
     "output_type": "stream",
     "text": [
      "49.0\n"
     ]
    }
   ],
   "source": [
    "from math import sqrt\n",
    "result = sqrt(2401)\n",
    "print(result)"
   ]
  },
  {
   "cell_type": "code",
   "execution_count": 2,
   "id": "68d9def6-4720-4cb5-b8ce-7368a595ff21",
   "metadata": {},
   "outputs": [
    {
     "name": "stdout",
     "output_type": "stream",
     "text": [
      "10.0\n"
     ]
    }
   ],
   "source": [
    "from math import log2\n",
    "result = log2(1024)\n",
    "print(result)\n"
   ]
  },
  {
   "cell_type": "code",
   "execution_count": 3,
   "id": "5a0246a9-32dd-4bb6-970b-1eac122a899b",
   "metadata": {},
   "outputs": [
    {
     "name": "stdout",
     "output_type": "stream",
     "text": [
      "Hello\n",
      "Hello\n",
      "bye\n",
      "bye\n"
     ]
    }
   ],
   "source": [
    "def displayTwice(msg):\n",
    "    print(msg)\n",
    "    print(msg)\n",
    "displayTwice(\"Hello\")\n",
    "displayTwice(\"bye\")"
   ]
  },
  {
   "cell_type": "code",
   "execution_count": 4,
   "id": "83db72ca-2819-4ddc-b350-2c7ca010c360",
   "metadata": {},
   "outputs": [
    {
     "name": "stdout",
     "output_type": "stream",
     "text": [
      "Help on function displayTwice in module __main__:\n",
      "\n",
      "displayTwice(msg)\n",
      "    This function takes a single parameter displays the message twice\n",
      "\n"
     ]
    }
   ],
   "source": [
    "def displayTwice(msg):\n",
    "    '''This function takes a single parameter displays the message twice'''\n",
    "    print(msg)\n",
    "    print(msg)\n",
    "help(displayTwice)"
   ]
  },
  {
   "cell_type": "code",
   "execution_count": 5,
   "id": "5f55c6d2-f815-4e7e-9b17-897872c28f18",
   "metadata": {},
   "outputs": [
    {
     "data": {
      "text/plain": [
       "8"
      ]
     },
     "execution_count": 5,
     "metadata": {},
     "output_type": "execute_result"
    }
   ],
   "source": [
    "def findMax(a,b):\n",
    "    \"\"\"Finds the maximum of two values.\"\"\"\n",
    "    if ( a > b ):\n",
    "        max = a\n",
    "    else:\n",
    "        max = b\n",
    "        return max\n",
    "\n",
    "findMax(5,8)"
   ]
  },
  {
   "cell_type": "code",
   "execution_count": 6,
   "id": "8d64bae8-0868-47cb-b212-fe2a0a9859b9",
   "metadata": {},
   "outputs": [
    {
     "name": "stderr",
     "output_type": "stream",
     "text": [
      "<>:5: SyntaxWarning: \"is\" with 'int' literal. Did you mean \"==\"?\n",
      "<>:6: SyntaxWarning: \"is\" with 'int' literal. Did you mean \"==\"?\n",
      "<>:7: SyntaxWarning: \"is\" with 'int' literal. Did you mean \"==\"?\n",
      "<>:5: SyntaxWarning: \"is\" with 'int' literal. Did you mean \"==\"?\n",
      "<>:6: SyntaxWarning: \"is\" with 'int' literal. Did you mean \"==\"?\n",
      "<>:7: SyntaxWarning: \"is\" with 'int' literal. Did you mean \"==\"?\n",
      "C:\\Users\\karna\\AppData\\Local\\Temp\\ipykernel_19148\\1616884958.py:5: SyntaxWarning: \"is\" with 'int' literal. Did you mean \"==\"?\n",
      "  x is 1\n"
     ]
    },
    {
     "name": "stdout",
     "output_type": "stream",
     "text": [
      "x is 1 \n",
      "y is 4 \n",
      "z is 99\n"
     ]
    },
    {
     "ename": "NameError",
     "evalue": "name 'x' is not defined",
     "output_type": "error",
     "traceback": [
      "\u001b[1;31m---------------------------------------------------------------------------\u001b[0m",
      "\u001b[1;31mNameError\u001b[0m                                 Traceback (most recent call last)",
      "Cell \u001b[1;32mIn[6], line 5\u001b[0m\n\u001b[0;32m      2\u001b[0m     \u001b[38;5;28mprint\u001b[39m(\u001b[38;5;124m\"\u001b[39m\u001b[38;5;124mx is\u001b[39m\u001b[38;5;124m\"\u001b[39m, x, \u001b[38;5;124m\"\u001b[39m\u001b[38;5;130;01m\\n\u001b[39;00m\u001b[38;5;124my is\u001b[39m\u001b[38;5;124m\"\u001b[39m, y, \u001b[38;5;124m\"\u001b[39m\u001b[38;5;130;01m\\n\u001b[39;00m\u001b[38;5;124mz is\u001b[39m\u001b[38;5;124m\"\u001b[39m, z)\n\u001b[0;32m      4\u001b[0m someFunc(\u001b[38;5;241m1\u001b[39m, z\u001b[38;5;241m=\u001b[39m\u001b[38;5;241m99\u001b[39m, y\u001b[38;5;241m=\u001b[39m\u001b[38;5;241m4\u001b[39m)\n\u001b[1;32m----> 5\u001b[0m \u001b[43mx\u001b[49m \u001b[38;5;129;01mis\u001b[39;00m \u001b[38;5;241m1\u001b[39m\n\u001b[0;32m      6\u001b[0m y \u001b[38;5;129;01mis\u001b[39;00m \u001b[38;5;241m2\u001b[39m\n\u001b[0;32m      7\u001b[0m z \u001b[38;5;129;01mis\u001b[39;00m \u001b[38;5;241m3\u001b[39m\n",
      "\u001b[1;31mNameError\u001b[0m: name 'x' is not defined"
     ]
    }
   ],
   "source": [
    "def someFunc(x, y, z):\n",
    "    print(\"x is\", x, \"\\ny is\", y, \"\\nz is\", z)\n",
    "\n",
    "someFunc(1, z=99, y=4)\n",
    "x is 1\n",
    "y is 2\n",
    "z is 3"
   ]
  },
  {
   "cell_type": "code",
   "execution_count": 7,
   "id": "a6425ce6-737d-49d1-8f6b-e65a11e2da17",
   "metadata": {},
   "outputs": [
    {
     "data": {
      "text/plain": [
       "31.75"
      ]
     },
     "execution_count": 7,
     "metadata": {},
     "output_type": "execute_result"
    }
   ],
   "source": [
    "def calcAve(*numbers):\n",
    "    total = 0\n",
    "    for num in numbers:\n",
    "        total += num\n",
    "    return total/len(numbers)\n",
    "\n",
    "calcAve(13,24,34,56)"
   ]
  },
  {
   "cell_type": "code",
   "execution_count": 8,
   "id": "1db0a389-f787-45da-8b17-fda92963075b",
   "metadata": {},
   "outputs": [
    {
     "data": {
      "text/plain": [
       "function"
      ]
     },
     "execution_count": 8,
     "metadata": {},
     "output_type": "execute_result"
    }
   ],
   "source": [
    "from math import *\n",
    "hypot = lambda a,b : sqrt(a * a + b * b)\n",
    "hypot(3,4)\n",
    "type(hypot)"
   ]
  },
  {
   "cell_type": "code",
   "execution_count": 9,
   "id": "86695c21-ed53-4c83-a856-f625bb471b95",
   "metadata": {},
   "outputs": [
    {
     "data": {
      "text/plain": [
       "5400"
      ]
     },
     "execution_count": 9,
     "metadata": {},
     "output_type": "execute_result"
    }
   ],
   "source": [
    "to_seconds = lambda hours, minutes : hours * 3600 + minutes*60\n",
    "to_seconds(1,30)"
   ]
  },
  {
   "cell_type": "code",
   "execution_count": 10,
   "id": "196c4989-2b25-4eac-b2c8-b718a0421751",
   "metadata": {},
   "outputs": [
    {
     "data": {
      "text/plain": [
       "7200"
      ]
     },
     "execution_count": 10,
     "metadata": {},
     "output_type": "execute_result"
    }
   ],
   "source": [
    "to_seconds(2,0)"
   ]
  },
  {
   "cell_type": "code",
   "execution_count": 11,
   "id": "c608f781-f902-46d3-9ede-cbe10803374b",
   "metadata": {},
   "outputs": [
    {
     "data": {
      "text/plain": [
       "3600"
      ]
     },
     "execution_count": 11,
     "metadata": {},
     "output_type": "execute_result"
    }
   ],
   "source": [
    "to_seconds = lambda hours, minutes=0 : hours * 3600 + minutes*60\n",
    "to_seconds(1)"
   ]
  },
  {
   "cell_type": "code",
   "execution_count": null,
   "id": "31d2ce34-2ab4-4de1-9e68-2f7e41180103",
   "metadata": {},
   "outputs": [],
   "source": []
  }
 ],
 "metadata": {
  "kernelspec": {
   "display_name": "Python 3 (ipykernel)",
   "language": "python",
   "name": "python3"
  },
  "language_info": {
   "codemirror_mode": {
    "name": "ipython",
    "version": 3
   },
   "file_extension": ".py",
   "mimetype": "text/x-python",
   "name": "python",
   "nbconvert_exporter": "python",
   "pygments_lexer": "ipython3",
   "version": "3.12.1"
  }
 },
 "nbformat": 4,
 "nbformat_minor": 5
}
