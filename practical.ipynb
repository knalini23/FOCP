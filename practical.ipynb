{
 "cells": [
  {
   "cell_type": "code",
   "execution_count": 1,
   "id": "d73817b2-ed90-4ad9-864d-55dbdec84fb1",
   "metadata": {},
   "outputs": [
    {
     "name": "stdout",
     "output_type": "stream",
     "text": [
      "the program has executed\n"
     ]
    }
   ],
   "source": [
    "print(\"the program has executed\")"
   ]
  },
  {
   "cell_type": "code",
   "execution_count": 2,
   "id": "c5769a3c-09f0-4d16-bf26-ce5c2bc04245",
   "metadata": {},
   "outputs": [
    {
     "name": "stdout",
     "output_type": "stream",
     "text": [
      "Hello! This is a simple print statement.\n",
      "Donald Trump is the new elected prime minister of the USA.\n",
      "Python is a dynamic language.\n"
     ]
    }
   ],
   "source": [
    "print(\"Hello! This is a simple print statement.\")\n",
    "print(\"Donald Trump is the new elected prime minister of the USA.\")\n",
    "print(\"Python is a dynamic language.\")"
   ]
  },
  {
   "cell_type": "code",
   "execution_count": 3,
   "id": "334e0f73-ff0f-4469-9df3-5c0337dcf069",
   "metadata": {},
   "outputs": [
    {
     "name": "stdout",
     "output_type": "stream",
     "text": [
      "Help on built-in function print in module builtins:\n",
      "\n",
      "print(*args, sep=' ', end='\\n', file=None, flush=False)\n",
      "    Prints the values to a stream, or to sys.stdout by default.\n",
      "\n",
      "    sep\n",
      "      string inserted between values, default a space.\n",
      "    end\n",
      "      string appended after the last value, default a newline.\n",
      "    file\n",
      "      a file-like object (stream); defaults to the current sys.stdout.\n",
      "    flush\n",
      "      whether to forcibly flush the stream.\n",
      "\n"
     ]
    }
   ],
   "source": [
    "help(print)"
   ]
  },
  {
   "cell_type": "code",
   "execution_count": 4,
   "id": "0c6f0483-9085-4e36-8488-c24ca8991217",
   "metadata": {},
   "outputs": [
    {
     "name": "stdout",
     "output_type": "stream",
     "text": [
      "Help on method raw_input in module ipykernel.kernelbase:\n",
      "\n",
      "raw_input(prompt='') method of ipykernel.ipkernel.IPythonKernel instance\n",
      "    Forward raw_input to frontends\n",
      "\n",
      "    Raises\n",
      "    ------\n",
      "    StdinNotImplementedError if active frontend doesn't support stdin.\n",
      "\n"
     ]
    }
   ],
   "source": [
    "help(input)"
   ]
  },
  {
   "cell_type": "code",
   "execution_count": 5,
   "id": "b9dbbba8-3a7d-45bb-b4df-693fbce50b54",
   "metadata": {},
   "outputs": [
    {
     "name": "stdout",
     "output_type": "stream",
     "text": [
      "65\n"
     ]
    }
   ],
   "source": [
    "num1 =45\n",
    "num2 = 20\n",
    "print(num1+num2)"
   ]
  },
  {
   "cell_type": "code",
   "execution_count": 6,
   "id": "f41cc7d4-c47b-4d7d-ad3e-dc4f60003462",
   "metadata": {},
   "outputs": [
    {
     "name": "stdout",
     "output_type": "stream",
     "text": [
      "15\n"
     ]
    }
   ],
   "source": [
    "print(10+20-15)"
   ]
  },
  {
   "cell_type": "code",
   "execution_count": 7,
   "id": "66ed7e20-7637-4076-931e-f77d3c040ea3",
   "metadata": {},
   "outputs": [
    {
     "name": "stdout",
     "output_type": "stream",
     "text": [
      "50\n"
     ]
    }
   ],
   "source": [
    "print(10*5)"
   ]
  },
  {
   "cell_type": "code",
   "execution_count": 11,
   "id": "4e20bcb2-87a0-463f-b05f-68ec494d2774",
   "metadata": {},
   "outputs": [
    {
     "name": "stdout",
     "output_type": "stream",
     "text": [
      "3.0303030303030303\n"
     ]
    }
   ],
   "source": [
    "print(100/33)"
   ]
  },
  {
   "cell_type": "code",
   "execution_count": 12,
   "id": "9e03bf51-80ce-4723-8a35-a84e8cc39529",
   "metadata": {},
   "outputs": [
    {
     "name": "stdout",
     "output_type": "stream",
     "text": [
      "3\n"
     ]
    }
   ],
   "source": [
    "print(100//33)"
   ]
  },
  {
   "cell_type": "code",
   "execution_count": 13,
   "id": "9d8403cd-93c4-467a-a58e-49e1be3b31ea",
   "metadata": {},
   "outputs": [
    {
     "name": "stdout",
     "output_type": "stream",
     "text": [
      "100\n"
     ]
    }
   ],
   "source": [
    "print(10**2)"
   ]
  },
  {
   "cell_type": "code",
   "execution_count": 1,
   "id": "54b0b4ca-70e5-4f8c-a6bb-ca72a6784231",
   "metadata": {},
   "outputs": [
    {
     "data": {
      "text/plain": [
       "1"
      ]
     },
     "execution_count": 1,
     "metadata": {},
     "output_type": "execute_result"
    }
   ],
   "source": [
    "10 % 3"
   ]
  },
  {
   "cell_type": "code",
   "execution_count": 2,
   "id": "2dfd5f6d-8d9d-43e1-acdd-af4514966334",
   "metadata": {},
   "outputs": [
    {
     "data": {
      "text/plain": [
       "20"
      ]
     },
     "execution_count": 2,
     "metadata": {},
     "output_type": "execute_result"
    }
   ],
   "source": [
    "10 + 5 * 2"
   ]
  },
  {
   "cell_type": "code",
   "execution_count": 3,
   "id": "0ee02d80-27f6-4122-872b-5b6782343213",
   "metadata": {},
   "outputs": [
    {
     "data": {
      "text/plain": [
       "-35"
      ]
     },
     "execution_count": 3,
     "metadata": {},
     "output_type": "execute_result"
    }
   ],
   "source": [
    "10 - 5 * 10 + 5"
   ]
  },
  {
   "cell_type": "code",
   "execution_count": 4,
   "id": "d97a499a-d0d4-4422-92fa-992c3c73eb43",
   "metadata": {},
   "outputs": [
    {
     "data": {
      "text/plain": [
       "500"
      ]
     },
     "execution_count": 4,
     "metadata": {},
     "output_type": "execute_result"
    }
   ],
   "source": [
    "5 * 10 ** 2"
   ]
  },
  {
   "cell_type": "code",
   "execution_count": 5,
   "id": "6450b195-9a98-4bee-94f8-e058cc87a278",
   "metadata": {},
   "outputs": [
    {
     "data": {
      "text/plain": [
       "30"
      ]
     },
     "execution_count": 5,
     "metadata": {},
     "output_type": "execute_result"
    }
   ],
   "source": [
    "(10 + 5) * 2"
   ]
  },
  {
   "cell_type": "code",
   "execution_count": 6,
   "id": "df5670c3-72fb-4f1a-b748-c947be4add3a",
   "metadata": {},
   "outputs": [
    {
     "data": {
      "text/plain": [
       "-65"
      ]
     },
     "execution_count": 6,
     "metadata": {},
     "output_type": "execute_result"
    }
   ],
   "source": [
    "10 - 5 * (10 + 5)"
   ]
  },
  {
   "cell_type": "code",
   "execution_count": 7,
   "id": "dec260f0-37bf-4e16-b144-c9f4f380dd49",
   "metadata": {},
   "outputs": [
    {
     "data": {
      "text/plain": [
       "2500"
      ]
     },
     "execution_count": 7,
     "metadata": {},
     "output_type": "execute_result"
    }
   ],
   "source": [
    "(5 * 10) ** 2"
   ]
  },
  {
   "cell_type": "code",
   "execution_count": 8,
   "id": "a12565b1-a1fd-47a7-9400-c9e8761f63b2",
   "metadata": {},
   "outputs": [
    {
     "data": {
      "text/plain": [
       "25"
      ]
     },
     "execution_count": 8,
     "metadata": {},
     "output_type": "execute_result"
    }
   ],
   "source": [
    "12 + (5 * 2 + 3)"
   ]
  },
  {
   "cell_type": "code",
   "execution_count": 9,
   "id": "715a077c-bf0b-482f-bdd2-f4ab9af91156",
   "metadata": {},
   "outputs": [
    {
     "data": {
      "text/plain": [
       "37"
      ]
     },
     "execution_count": 9,
     "metadata": {},
     "output_type": "execute_result"
    }
   ],
   "source": [
    "12 + (5 * (2 + 3))"
   ]
  },
  {
   "cell_type": "code",
   "execution_count": 10,
   "id": "4064f71a-e109-4474-ac6d-3d3b4dc16ddc",
   "metadata": {},
   "outputs": [
    {
     "ename": "SyntaxError",
     "evalue": "invalid syntax (664761973.py, line 1)",
     "output_type": "error",
     "traceback": [
      "\u001b[1;36m  Cell \u001b[1;32mIn[10], line 1\u001b[1;36m\u001b[0m\n\u001b[1;33m    10 +\u001b[0m\n\u001b[1;37m        ^\u001b[0m\n\u001b[1;31mSyntaxError\u001b[0m\u001b[1;31m:\u001b[0m invalid syntax\n"
     ]
    }
   ],
   "source": [
    "10 +"
   ]
  },
  {
   "cell_type": "code",
   "execution_count": 11,
   "id": "a183ced2-a140-43cf-ba64-f82e189afc76",
   "metadata": {},
   "outputs": [
    {
     "ename": "ZeroDivisionError",
     "evalue": "division by zero",
     "output_type": "error",
     "traceback": [
      "\u001b[1;31m---------------------------------------------------------------------------\u001b[0m",
      "\u001b[1;31mZeroDivisionError\u001b[0m                         Traceback (most recent call last)",
      "Cell \u001b[1;32mIn[11], line 1\u001b[0m\n\u001b[1;32m----> 1\u001b[0m \u001b[38;5;28mprint\u001b[39m(\u001b[38;5;124m\"\u001b[39m\u001b[38;5;124mTen divided by zero is\u001b[39m\u001b[38;5;124m\"\u001b[39m, \u001b[38;5;241;43m10\u001b[39;49m\u001b[38;5;241;43m/\u001b[39;49m\u001b[38;5;241;43m0\u001b[39;49m )\n",
      "\u001b[1;31mZeroDivisionError\u001b[0m: division by zero"
     ]
    }
   ],
   "source": [
    "print(\"Ten divided by zero is\", 10/0 )"
   ]
  }
 ],
 "metadata": {
  "kernelspec": {
   "display_name": "Python 3 (ipykernel)",
   "language": "python",
   "name": "python3"
  },
  "language_info": {
   "codemirror_mode": {
    "name": "ipython",
    "version": 3
   },
   "file_extension": ".py",
   "mimetype": "text/x-python",
   "name": "python",
   "nbconvert_exporter": "python",
   "pygments_lexer": "ipython3",
   "version": "3.12.1"
  }
 },
 "nbformat": 4,
 "nbformat_minor": 5
}
