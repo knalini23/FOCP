{
 "cells": [
  {
   "cell_type": "markdown",
   "id": "61fde5d3-9af4-47af-a8d0-51b33511f3bd",
   "metadata": {},
   "source": [
    "1. Last week you wrote a program that printed out a cheery greeting including your\r\n",
    "name. Take a copy of it, and modify it so that the user enters their name at the\r\n",
    "keyboard, and then receives a greeting."
   ]
  },
  {
   "cell_type": "code",
   "execution_count": 2,
   "id": "cc263628-bf4b-449d-a8b6-cff8d25cf6d8",
   "metadata": {},
   "outputs": [
    {
     "name": "stdin",
     "output_type": "stream",
     "text": [
      "Hello, what is your name?  Albatros\n"
     ]
    },
    {
     "name": "stdout",
     "output_type": "stream",
     "text": [
      "Hello, Albatros. Good to meet you!\n"
     ]
    }
   ],
   "source": [
    "name = input(\"Hello, what is your name? \")\n",
    "print(f\"Hello, {name}. Good to meet you!\")"
   ]
  },
  {
   "cell_type": "markdown",
   "id": "e15c38ce-a446-42de-ab67-955150426afc",
   "metadata": {},
   "source": [
    "2. Write a program that prompts a user to enter a temperature in Celsius, and then\r\n",
    "displays the corresponding temperature in Fahrenheit, like so:\r\n",
    "Enter a temperature in Celsius: 32.5\r\n",
    "32.5C is equivalent to 90.5F."
   ]
  },
  {
   "cell_type": "code",
   "execution_count": 3,
   "id": "4f2ca598-ca48-40ce-abd7-349feaedd5a4",
   "metadata": {},
   "outputs": [
    {
     "name": "stdin",
     "output_type": "stream",
     "text": [
      "Enter temperature in celsius:  45.2\n"
     ]
    },
    {
     "name": "stdout",
     "output_type": "stream",
     "text": [
      "45.2C is equivalent to 113.36F.\n"
     ]
    }
   ],
   "source": [
    "Celsius = float(input(\"Enter temperature in celsius: \"))\n",
    "Fahrenheit = (Celsius * 9/5) + 32\n",
    "print(f\"{Celsius}C is equivalent to {Fahrenheit}F.\")\n"
   ]
  },
  {
   "cell_type": "markdown",
   "id": "b5f541c9-48cb-496d-9cef-b01745ab7014",
   "metadata": {},
   "source": [
    "3. The Head of Computing at the University of Poppleton is tasked with dividing a\r\n",
    "group of students into lab groups. A lab group is usually 24 students, but this is\r\n",
    "sometimes varied to create groups of similar size. Write a program that prompts for\r\n",
    "the number of students and group size, and then displays how many groups will be\r\n",
    "needed and how many will be left over in a smaller group.\r\n",
    "How many students? 113\r\n",
    "Required group size? 22\r\n",
    "There will be 5 groups with 3 students left over.\r\n",
    "For bonus credit, see if you can fix the grammar in the output. So if there were 101\r\n",
    "students in groups of 20 the output would be:\r\n",
    "There will be 5 groups with 1 student left over."
   ]
  },
  {
   "cell_type": "code",
   "execution_count": 4,
   "id": "26c9c557-f3cf-412a-b2be-02b12d836fc5",
   "metadata": {},
   "outputs": [
    {
     "name": "stdin",
     "output_type": "stream",
     "text": [
      "How many students?  31\n",
      "Required group size?  5\n"
     ]
    },
    {
     "name": "stdout",
     "output_type": "stream",
     "text": [
      "There will be 6 groups with 1 student left over.\n"
     ]
    }
   ],
   "source": [
    "students = int(input(\"How many students? \"))\n",
    "group_size = int(input(\"Required group size? \"))\n",
    "\n",
    "groups_required = students // group_size\n",
    "students_left = students % group_size\n",
    "\n",
    "if students_left ==1:\n",
    "    print(f\"There will be {groups_required} groups with {students_left} student left over.\")\n",
    "else:\n",
    "    print(f\"There will be {groups_required} groups with {students_left} students left over.\")"
   ]
  },
  {
   "cell_type": "markdown",
   "id": "21ef548d-fca1-48bf-b285-7643b5c0a25a",
   "metadata": {},
   "source": [
    "4. A kindly teacher wishes to distribute a tub of sweets between her pupils. She will\r\n",
    "first count the sweets and then divide them according to how many pupils attend\r\n",
    "that day. Write a program that will tell the teacher how many sweets to give to each\r\n",
    "pupil, and how many she will have left over."
   ]
  },
  {
   "cell_type": "code",
   "execution_count": 5,
   "id": "ba8cdd89-02b2-42fb-bd26-2f7158e65c78",
   "metadata": {},
   "outputs": [
    {
     "name": "stdin",
     "output_type": "stream",
     "text": [
      "Enter the number of pupils present:  6\n",
      "Enter the amount of sweets you have:  30\n"
     ]
    },
    {
     "name": "stdout",
     "output_type": "stream",
     "text": [
      "You must distribute 5 sweets to each pupil, you will have 0 sweets left over.\n"
     ]
    }
   ],
   "source": [
    "pupils = int(input(\"Enter the number of pupils present: \"))\n",
    "sweets_available = int(input(\"Enter the amount of sweets you have: \"))\n",
    "\n",
    "sweet_to_distribute = sweets_available // pupils\n",
    "sweets_left = sweets_available % pupils\n",
    "\n",
    "print(f\"You must distribute {sweet_to_distribute} sweets to each pupil, you will have {sweets_left} sweets left over.\") "
   ]
  }
 ],
 "metadata": {
  "kernelspec": {
   "display_name": "Python 3 (ipykernel)",
   "language": "python",
   "name": "python3"
  },
  "language_info": {
   "codemirror_mode": {
    "name": "ipython",
    "version": 3
   },
   "file_extension": ".py",
   "mimetype": "text/x-python",
   "name": "python",
   "nbconvert_exporter": "python",
   "pygments_lexer": "ipython3",
   "version": "3.12.1"
  }
 },
 "nbformat": 4,
 "nbformat_minor": 5
}
