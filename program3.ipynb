{
 "cells": [
  {
   "cell_type": "markdown",
   "id": "52c0b3c6-8e2a-48e0-a7cb-9a54f95b5f39",
   "metadata": {},
   "source": [
    "1. Modify your greeting program so that if the user does not enter a name (i.e. they \n",
    "just press enter), the program responds \"Hello, Stranger!\"  Otherwis,e it should prin\r\n",
    "a greeting with their name as before."
   ]
  },
  {
   "cell_type": "code",
   "execution_count": 2,
   "id": "1c718f1e-4f80-46e9-94f1-a753fbbe7ccb",
   "metadata": {},
   "outputs": [
    {
     "name": "stdin",
     "output_type": "stream",
     "text": [
      "Enter your name:  \n"
     ]
    },
    {
     "name": "stdout",
     "output_type": "stream",
     "text": [
      "Hello, Stranger!\n"
     ]
    }
   ],
   "source": [
    "name = input(\"Enter your name: \")\n",
    "if name == \"\":\n",
    "    print(\"Hello, Stranger!\")\n",
    "else: \n",
    "    print(f\"Hello, {name}!\")\n",
    "          "
   ]
  },
  {
   "cell_type": "markdown",
   "id": "97160d34-ed6e-434b-a97e-0155683ab659",
   "metadata": {},
   "source": [
    "2. Write a program that simulates the way in which a user might choose a password. \n",
    "The program should prompt for a new password, and then prompt again. If the tw \r\n",
    "passwords entered are the same the program should say \"Password Set\"  r\r\n",
    "similar, otherwise it should report an error."
   ]
  },
  {
   "cell_type": "code",
   "execution_count": 3,
   "id": "e7cb9033-0e6e-49c9-af64-a3710d8c8445",
   "metadata": {},
   "outputs": [
    {
     "name": "stdin",
     "output_type": "stream",
     "text": [
      "Enter the password:  123\n",
      "Confirm the password:  123\n"
     ]
    },
    {
     "name": "stdout",
     "output_type": "stream",
     "text": [
      "Password Set\n"
     ]
    }
   ],
   "source": [
    "password = input(\"Enter the password: \")\n",
    "confirm_password = input(\"Confirm the password: \")\n",
    "\n",
    "if password == confirm_password:\n",
    "    print(\"Password Set\")\n",
    "else:\n",
    "    print(\"Sorry! The password did not match\")"
   ]
  },
  {
   "cell_type": "markdown",
   "id": "d349396e-a09f-4a9b-8773-9ee432f54732",
   "metadata": {},
   "source": [
    "3. Modify your previous program so that the password must be between 8 and 12 \n",
    "characters (inclusive) long."
   ]
  },
  {
   "cell_type": "code",
   "execution_count": 4,
   "id": "b9220ce0-8b51-4b3a-8fcf-c6465505e60d",
   "metadata": {},
   "outputs": [
    {
     "name": "stdin",
     "output_type": "stream",
     "text": [
      "Enter the password:  1234\n"
     ]
    },
    {
     "name": "stdout",
     "output_type": "stream",
     "text": [
      "Password must be between 8 to 12 characters long.\n"
     ]
    }
   ],
   "source": [
    "password = input(\"Enter the password: \")\n",
    "\n",
    "if len(password)<8 or len(password)>12:\n",
    "    print(\"Password must be between 8 to 12 characters long.\")\n",
    "else:\n",
    "    confirm_password = input(\"Confirm the password: \")\n",
    "\n",
    "    if password == confirm_password:\n",
    "        print(\"Password Set\")\n",
    "    else:\n",
    "        print(\"Sorry! The password did not match\")"
   ]
  },
  {
   "cell_type": "markdown",
   "id": "5834042d-26e9-4a10-b9d8-edcef5ec3a92",
   "metadata": {},
   "source": [
    "4. Modify your program again so that the chosen password cannot be one of a list of \n",
    "common passwords, defined thus:\r\n",
    "BAD_PASSWORDS = ['password', 'letmein', 'sesame', 'hello', 'justinbieber']"
   ]
  },
  {
   "cell_type": "code",
   "execution_count": 5,
   "id": "3ce40531-9658-4320-8d29-4187fa543583",
   "metadata": {},
   "outputs": [
    {
     "name": "stdin",
     "output_type": "stream",
     "text": [
      "Enter the password:  password\n"
     ]
    },
    {
     "name": "stdout",
     "output_type": "stream",
     "text": [
      "The password you entered is too common. Please choose a strong password.\n"
     ]
    }
   ],
   "source": [
    "BAD_PASSWORDS = ['password', 'letmein', 'sesame', 'hello', 'justinbieber']\n",
    "\n",
    "password = input(\"Enter the password: \")\n",
    "\n",
    "if len(password)<8 or len(password)>12:\n",
    "    print(\"Password must be between 8 to 12 characters long.\")\n",
    "elif password.lower() in [bad.lower() for bad in BAD_PASSWORDS]:\n",
    "    print(\"The password you entered is too common. Please choose a strong password.\")\n",
    "else:\n",
    "    confirm_password = input(\"Confirm the password: \")\n",
    "\n",
    "    if password == confirm_password:\n",
    "        print(\"Password Set\")\n",
    "    else:\n",
    "        print(\"Sorry! The password did not match\")"
   ]
  },
  {
   "cell_type": "markdown",
   "id": "41feacc7-177c-475d-af59-c0e33bf03154",
   "metadata": {},
   "source": [
    "5. Modify your program a final time so that it executes until the user successfully \n",
    "chooses a password. That is, if the password chosen fails any of the checks, th \r\n",
    "program should return to asking for the password the first time."
   ]
  },
  {
   "cell_type": "code",
   "execution_count": 1,
   "id": "33f2e0bb-2220-4093-b7b8-69bac83ea909",
   "metadata": {},
   "outputs": [
    {
     "name": "stdin",
     "output_type": "stream",
     "text": [
      "Enter the password:  123#anmk\n",
      "Confirm the password:  123#anmk\n"
     ]
    },
    {
     "name": "stdout",
     "output_type": "stream",
     "text": [
      "Password Set\n"
     ]
    }
   ],
   "source": [
    "BAD_PASSWORDS = ['password', 'letmein', 'sesame', 'hello', 'justinbieber']\n",
    "\n",
    "def password_validation(password):\n",
    "    if len(password)<8 or len(password)>12:\n",
    "        print(\"Password must be between 8 to 12 characters long.\")\n",
    "        return False\n",
    "        \n",
    "    if password.lower() in [bad.lower() for bad in BAD_PASSWORDS]:\n",
    "        print(\"The password you entered is too common. Please choose a strong password.\")\n",
    "        return False\n",
    "\n",
    "    return True\n",
    "\n",
    "def main():\n",
    "    while True:\n",
    "        password = input(\"Enter the password: \")\n",
    "        \n",
    "        if password_validation(password):\n",
    "            confirm_password = input(\"Confirm the password: \")\n",
    "\n",
    "            if password == confirm_password:\n",
    "                print(\"Password Set\")\n",
    "                break\n",
    "            else:\n",
    "                print(\"Sorry! The password did not match\")\n",
    "        else:\n",
    "            print(\"Please enter a valid password.\")\n",
    "\n",
    "main()"
   ]
  },
  {
   "cell_type": "markdown",
   "id": "0d844270-ebd9-49dd-8325-2b0780bbd9b0",
   "metadata": {},
   "source": [
    "6. Write a program that displays the \"Seven Times Table\". That is, the result of multiplying 7 by every number from 0 to 12 inclusive. The output might start:\n",
    "0 x 7 = 0\n",
    "1 x 7 = 7\n",
    "2 x 7 = 14\n",
    "and so on."
   ]
  },
  {
   "cell_type": "code",
   "execution_count": 2,
   "id": "7b138b8a-911d-4aca-a00f-4a198318e992",
   "metadata": {},
   "outputs": [
    {
     "name": "stdout",
     "output_type": "stream",
     "text": [
      "0 * 7 = 0\n",
      "1 * 7 = 7\n",
      "2 * 7 = 14\n",
      "3 * 7 = 21\n",
      "4 * 7 = 28\n",
      "5 * 7 = 35\n",
      "6 * 7 = 42\n",
      "7 * 7 = 49\n",
      "8 * 7 = 56\n",
      "9 * 7 = 63\n",
      "10 * 7 = 70\n",
      "11 * 7 = 77\n",
      "12 * 7 = 84\n"
     ]
    }
   ],
   "source": [
    "for i in range(13):\n",
    "    print(f\"{i} * 7 = {i*7}\")"
   ]
  },
  {
   "cell_type": "markdown",
   "id": "de73749f-bb47-4add-96da-91cc81a62dd3",
   "metadata": {},
   "source": [
    "7. Modify your \"Times Table\" program so that the user enters the number of the table\r\n",
    "they require. This number should be between 0 and 12 inclusive."
   ]
  },
  {
   "cell_type": "code",
   "execution_count": 8,
   "id": "f1425b1f-031a-4b4d-b750-cfacc6b8a2cc",
   "metadata": {},
   "outputs": [
    {
     "name": "stdin",
     "output_type": "stream",
     "text": [
      "Enter a number between 0 to 12 -1\n"
     ]
    },
    {
     "name": "stdout",
     "output_type": "stream",
     "text": [
      "Please enter a valid number between 0 and 12\n"
     ]
    }
   ],
   "source": [
    "user_input = int(input(\"Enter a number between 0 to 12\"))\n",
    "\n",
    "if 0<= user_input <=12:\n",
    "    for i in range(13):\n",
    "        print(f\"{i} * {user_input} = {i*user_input}\")\n",
    "else:\n",
    "    print(\"Please enter a valid number between 0 and 12\")"
   ]
  },
  {
   "cell_type": "markdown",
   "id": "def195ef-f19a-47e6-a786-87cd7a7ed19b",
   "metadata": {},
   "source": [
    "8. Modify the \"Times Table\" again so that the user still enters the number of the table,\r\n",
    "but if this number is negative the table is printed backwards. So entering \"-7\"\r\n",
    "would produce the Seven Times Table starting at \"12 times\" down to \"0 times\"."
   ]
  },
  {
   "cell_type": "code",
   "execution_count": 2,
   "id": "8e8a6dfb-486a-4b77-bd25-bddb986124ce",
   "metadata": {},
   "outputs": [
    {
     "name": "stdin",
     "output_type": "stream",
     "text": [
      "Enter a number between 0 to 12:  -6\n"
     ]
    },
    {
     "name": "stdout",
     "output_type": "stream",
     "text": [
      "12 x 6 = 72\n",
      "11 x 6 = 66\n",
      "10 x 6 = 60\n",
      "9 x 6 = 54\n",
      "8 x 6 = 48\n",
      "7 x 6 = 42\n",
      "6 x 6 = 36\n",
      "5 x 6 = 30\n",
      "4 x 6 = 24\n",
      "3 x 6 = 18\n",
      "2 x 6 = 12\n",
      "1 x 6 = 6\n",
      "0 x 6 = 0\n"
     ]
    }
   ],
   "source": [
    "user_input = int(input(\"Enter a number between 0 to 12: \"))\n",
    "\n",
    "if -12<= user_input <=12:\n",
    "    if user_input < 0:\n",
    "        for i in range(12, -1, -1):\n",
    "            print(f\"{i} x {abs(user_input)} = {i * abs(user_input)}\")\n",
    "    else:\n",
    "        for i in range(13):\n",
    "            print(f\"{i} * {user_input} = {i*user_input}\")\n",
    "else:\n",
    "    print(\"Please enter a valid number between 0 and 12\")"
   ]
  },
  {
   "cell_type": "code",
   "execution_count": null,
   "id": "1b3b427e-57b8-41e7-9805-f689a031e4a1",
   "metadata": {},
   "outputs": [],
   "source": []
  }
 ],
 "metadata": {
  "kernelspec": {
   "display_name": "Python 3 (ipykernel)",
   "language": "python",
   "name": "python3"
  },
  "language_info": {
   "codemirror_mode": {
    "name": "ipython",
    "version": 3
   },
   "file_extension": ".py",
   "mimetype": "text/x-python",
   "name": "python",
   "nbconvert_exporter": "python",
   "pygments_lexer": "ipython3",
   "version": "3.12.1"
  }
 },
 "nbformat": 4,
 "nbformat_minor": 5
}
